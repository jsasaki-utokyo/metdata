{
 "cells": [
  {
   "cell_type": "markdown",
   "id": "444c1848-69fa-47dd-874c-86b45593152f",
   "metadata": {},
   "source": [
    "# Pocessing GWO hourly meteorological data\n",
    "**Author: Jun Sasaki  Coded on 2022-02-13  Updated on 2024-12-20.**<br>\n",
    "Extract and plot GWO (Ground Weather Observation) hourly data."
   ]
  },
  {
   "cell_type": "code",
   "execution_count": null,
   "id": "166c5054-0654-4a30-885a-fddc4b783379",
   "metadata": {},
   "outputs": [],
   "source": [
    "from metdata import gwo\n",
    "from datetime import datetime\n",
    "from dateutil.parser import parse\n",
    "import matplotlib.pyplot as plt\n",
    "from matplotlib.ticker import MultipleLocator, FormatStrFormatter\n",
    "from matplotlib.dates import date2num, YearLocator, MonthLocator, DayLocator, DateFormatter\n",
    "import pandas as pd\n",
    "import numpy as np\n",
    "from pandas.plotting import register_matplotlib_converters\n",
    "\n",
    "# Set GWO/Hourly/ directory path containing GWO data\n",
    "dirpath = \"/mnt/d/dat/met/JMA_DataBase/GWO/Hourly/\"\n",
    "# %matplotlib inline"
   ]
  },
  {
   "cell_type": "code",
   "execution_count": null,
   "id": "3502d5b0-1d81-4034-9688-f5657fbc5f68",
   "metadata": {},
   "outputs": [],
   "source": [
    "datetime_ini = \"2020-01-01 00:00:00\"\n",
    "datetime_end = \"2021-01-01 00:00:00\"\n",
    "#datetime_ini = \"2010-9-2 00:00:00\"\n",
    "#datetime_end = \"2010-9-3 00:00:00\"\n",
    "stn = \"Tokyo\"\n",
    "met = gwo.Hourly(datetime_ini=datetime_ini, datetime_end=datetime_end,\n",
    "                 stn=stn, dirpath=dirpath)"
   ]
  },
  {
   "cell_type": "markdown",
   "id": "ba58e4c0-430f-44f2-8d5b-d987202d7dd7",
   "metadata": {},
   "source": [
    "## Gets pandas DataFrame\n",
    "pandas DataFrame can be obtained by invoking `.df` method"
   ]
  },
  {
   "cell_type": "code",
   "execution_count": null,
   "id": "a08b3056-6c10-498c-8b90-0376bd49de34",
   "metadata": {},
   "outputs": [],
   "source": [
    "print(met.df.columns)\n",
    "met.df.head()"
   ]
  },
  {
   "cell_type": "markdown",
   "id": "88ff4e4d-0781-4428-a2b0-77422b1fc66d",
   "metadata": {
    "tags": []
   },
   "source": [
    "# Plot using [Matplotlib](https://matplotlib.org/stable/index.html)\n",
    "Extract a 1D scalar or vector variable from DataFrame."
   ]
  },
  {
   "cell_type": "code",
   "execution_count": null,
   "id": "b501127b-6c66-4bf3-b2f7-30b7788ac791",
   "metadata": {
    "tags": []
   },
   "outputs": [],
   "source": [
    "data = gwo.Data1D(df=met.df, col_1='kion')"
   ]
  },
  {
   "cell_type": "markdown",
   "id": "6b07d220-0e25-4f09-bff0-e69043c555eb",
   "metadata": {},
   "source": [
    "## Example of scalar 1-D time series plot\n",
    "- Rolling mean is applied to `Plot1D()` by setting its arguments of `window` in odd integer number and `center` (default is `True`)."
   ]
  },
  {
   "cell_type": "code",
   "execution_count": null,
   "id": "12d36666-0c7d-4523-8c42-8e63ce506b7b",
   "metadata": {},
   "outputs": [],
   "source": [
    "### xlim = (parse(\"2014-01-15\"), parse(\"2014-02-16\"))  ### ex. for datetime\n",
    "ylabel='Temperature (degC)'\n",
    "xlim = None\n",
    "#xlim = (parse(\"1990-09-02\"), parse(\"1992-09-03\"))\n",
    "dx = 7\n",
    "ylim = None\n",
    "dy = 2\n",
    "\n",
    "## Set window=1 when no plot.\n",
    "window=1\n",
    "#try:\n",
    "plot_config = gwo.Data1D_PlotConfig(xlim=xlim, ylim=ylim, \n",
    "                                    x_minor_locator=DayLocator(interval=dx),\n",
    "                                    y_minor_locator = MultipleLocator(dy),\n",
    "                                    format_xdata = DateFormatter('%Y-%m-%d'),\n",
    "                                    ylabel = ylabel)\n",
    "gwo.Plot1D(plot_config, data, window=window,\n",
    "           center=True).save_plot('data.png', dpi=600)"
   ]
  },
  {
   "cell_type": "markdown",
   "id": "fb934736-54c8-4a15-a4ca-e050d32e275a",
   "metadata": {},
   "source": [
    "## Example of time series wind vector plot with its speed"
   ]
  },
  {
   "cell_type": "code",
   "execution_count": null,
   "id": "579991d4-1e28-421c-b74f-43578c9aafd4",
   "metadata": {},
   "outputs": [],
   "source": [
    "wind = gwo.Data1D(met.df, 'u', 'v')\n",
    "print(wind.v[0:10])"
   ]
  },
  {
   "cell_type": "code",
   "execution_count": null,
   "id": "5179ce3d-d8bd-4e29-9cc5-bce03ff25d37",
   "metadata": {},
   "outputs": [],
   "source": [
    "#xlim = (parse(\"2013-12-25 00:00:00\"),parse(\"2014-01-10 00:00:00\"))\n",
    "vlabel = 'Wind speed (m/s)'\n",
    "ylabel = 'Wind vector (m/s)'\n",
    "png_vector = \"gwo_hourly_wind.png\"\n",
    "xlim = None\n",
    "#xlim = (parse(\"1990-09-02\"), parse(\"1990-09-03\"))\n",
    "dx = 7  # x_minor_locator interval\n",
    "#ylim = None\n",
    "ylim = (-15, 15)\n",
    "dy = 1  # y_minor_locator interval\n",
    "window=25 # Rolling mean window in odd integer; center: rolling mean at center\n",
    "magnitude = True  # True: Plot magnitudes, False: No magnitudes\n",
    "\n",
    "plot_config = gwo.Data1D_PlotConfig(xlim = xlim, ylim = ylim,\n",
    "              x_minor_locator = DayLocator(interval=dx),\n",
    "              y_minor_locator = MultipleLocator(dy),\n",
    "              format_xdata = DateFormatter('%Y-%m-%d'),\n",
    "              ylabel=ylabel, vlabel=vlabel, vlabel_loc = 'lower center')\n",
    "gwo.Plot1D(plot_config, wind, window=window, \n",
    "           center=True).save_vector_plot(png_vector, \n",
    "                                         magnitude = magnitude, dpi=600)"
   ]
  },
  {
   "cell_type": "markdown",
   "id": "ad569b93-d9f7-4f1b-9e65-226a50a4874d",
   "metadata": {},
   "source": [
    "# Plot using [hvPlot](https://hvplot.holoviz.org/)\n",
    "This is for interactive plotting but not suitable for saving graphics into files."
   ]
  },
  {
   "cell_type": "code",
   "execution_count": null,
   "id": "a99fd046-9dd3-48c5-b28e-18d58a1cfa60",
   "metadata": {},
   "outputs": [],
   "source": [
    "import hvplot.pandas"
   ]
  },
  {
   "cell_type": "code",
   "execution_count": null,
   "id": "0fcf9587-a2a0-4399-8ae3-f382a45ec319",
   "metadata": {
    "scrolled": true
   },
   "outputs": [],
   "source": [
    "data.df[['kion', 'sped']].hvplot()"
   ]
  },
  {
   "cell_type": "code",
   "execution_count": null,
   "id": "e42aa744-7f9c-481b-8f56-b2352ac915b3",
   "metadata": {},
   "outputs": [],
   "source": [
    "def hook(plot, element):\n",
    "    plot.handles['xaxis'].axis_label_text_font_style = 'normal'\n",
    "    plot.handles['yaxis'].axis_label_text_font_style = 'normal'"
   ]
  },
  {
   "cell_type": "markdown",
   "id": "9579b535-3c66-495c-ac43-fad99daa42e2",
   "metadata": {},
   "source": [
    "### How to specify options for hvPlot (オプション指定方法)\n",
    "- Many of the Holoviews options can be specified with the hvPlot argument.\n",
    "- `hooks` defines the function `hook(plot, element)`, which is specified in hvPlot as `.opts(hooks=[hook])`. Unconfirmed, but it seems that all options can be specified, including Bokeh options that are not defined as arguments in hvPlot or Holoviews.\n",
    "- 基本的にはhvplotの引数でHoloviewsのオプションの多くが指定できる\n",
    "- `hooks`は関数`hook(plot, element)`を定義し，hvPlotで`.opts(hooks=[hook])`として指定する．未確認だが，hvPlotやHoloviewsの引数としては定義されていないBokehのオプションを含め，すべてのオプションが指定できそう"
   ]
  },
  {
   "cell_type": "code",
   "execution_count": null,
   "id": "4ad4462e-c663-4f22-8d6d-61cfe213b406",
   "metadata": {},
   "outputs": [],
   "source": [
    "'''\n",
    "## This cell invokes error.\n",
    "xlim = (parse(\"2019-12-01\"), parse(\"2019-12-05\"))\n",
    "data.df['kion'].hvplot(xlim=xlim)\n",
    "'''"
   ]
  },
  {
   "cell_type": "code",
   "execution_count": null,
   "id": "9834b6e8-c6de-49a9-8eda-036000cccf73",
   "metadata": {},
   "outputs": [],
   "source": [
    "data.df['kion']['2020-12-01':'2020-12-05'].hvplot()"
   ]
  },
  {
   "cell_type": "code",
   "execution_count": null,
   "id": "4b0f5218-36eb-4691-b616-5e120084766d",
   "metadata": {},
   "outputs": [],
   "source": [
    "data.df['kion']['2020-12-01':'2020-12-05'].hvplot(\n",
    "                       #xlim=(datetime(2019,12,1), datetime(2019,12,20)), \n",
    "                       #xticks=10, ylabel='Temperature (degC)',\n",
    "                       #ylim=(-4,35), yticks=10, width=600, height=200,\n",
    "                       line_color='red', line_width=0.5,\n",
    "                       fontsize={'xticks':12,'yticks':12 ,'ylabel':14},\n",
    "                       title='').opts(hooks=[hook])"
   ]
  },
  {
   "cell_type": "markdown",
   "id": "ffcab2b8-2ed9-4cea-8426-fc7c1ae90103",
   "metadata": {},
   "source": [
    "# Check missing rows in DataFrame."
   ]
  },
  {
   "cell_type": "code",
   "execution_count": null,
   "id": "af161ab6-cf0b-42d0-8c55-c1adc5723094",
   "metadata": {},
   "outputs": [],
   "source": [
    "datetime_ini = \"2010-9-2 00:00:00\"\n",
    "datetime_end = \"2010-9-2 23:00:00\"\n",
    "stn = \"Chiba\"\n",
    "dirpath = \"/mnt/d/dat/met/JMA_DataBase/GWO/Hourly/\"\n",
    "\n",
    "met_check = gwo.Check(datetime_ini=datetime_ini, datetime_end=datetime_end,\n",
    "                      stn=stn, dirpath=dirpath)\n",
    "## Create a complete pandas DatetieIndex\n",
    "datetime_index = pd.date_range(datetime_ini, datetime_end, freq='h')"
   ]
  },
  {
   "cell_type": "code",
   "execution_count": null,
   "id": "cdcdbba5-fae4-43e5-9f26-0b146e8376cf",
   "metadata": {},
   "outputs": [],
   "source": [
    "met_check.df.index"
   ]
  },
  {
   "cell_type": "code",
   "execution_count": null,
   "id": "68a7b082-8cb9-437d-8d90-1fef6576287f",
   "metadata": {},
   "outputs": [],
   "source": [
    "datetime_index.values[0] in met_check.df.index.values"
   ]
  },
  {
   "cell_type": "markdown",
   "id": "53998d54-6d5d-4552-bb8a-b1cb31005b1b",
   "metadata": {},
   "source": [
    "### Create a mask for extracting missing rows\n",
    "- [`np.isis(https://numpy.org/doc/stable/reference/generated/numpy.isin.html)`]()\n",
    "- [`np.logical_not()`](https://numpy.org/doc/stable/reference/generated/numpy.logical_not.html)."
   ]
  },
  {
   "cell_type": "code",
   "execution_count": null,
   "id": "34feef6b-daf2-4b46-b90a-c8b4670e8d66",
   "metadata": {},
   "outputs": [],
   "source": [
    "mask = np.logical_not(np.isin(datetime_index, met_check.df.index))\n",
    "datetime_index[mask]"
   ]
  },
  {
   "cell_type": "code",
   "execution_count": null,
   "id": "d28bdca5-5d1c-498d-810a-5e84f8dd6263",
   "metadata": {},
   "outputs": [],
   "source": [
    "mask"
   ]
  },
  {
   "cell_type": "markdown",
   "id": "2cd07fa8-bbd5-4d16-9f53-4cd7a9111ecf",
   "metadata": {},
   "source": [
    "## Exporting GOTM input data"
   ]
  },
  {
   "cell_type": "code",
   "execution_count": null,
   "id": "edfa4826-6799-4a61-a79c-727bc9171308",
   "metadata": {},
   "outputs": [],
   "source": [
    "light_file = \"tokyo_light_2020.dat\"\n",
    "precip_file = \"tokyo_precip_2020.dat\"\n",
    "meteo_file = \"tokyo_meteo_2020.dat\"\n",
    "gwo.export_gotm(light_file, met.df, 'slht', fmt='10.5f')\n",
    "gwo.export_gotm(precip_file, met.df, 'kous')\n",
    "gwo.export_gotm_meteo(meteo_file, met.df)"
   ]
  },
  {
   "cell_type": "code",
   "execution_count": null,
   "id": "b5e36dd1-2bbb-4d46-b17d-82d7b23cd30e",
   "metadata": {},
   "outputs": [],
   "source": []
  }
 ],
 "metadata": {
  "kernelspec": {
   "display_name": "Python 3 (ipykernel)",
   "language": "python",
   "name": "python3"
  },
  "language_info": {
   "codemirror_mode": {
    "name": "ipython",
    "version": 3
   },
   "file_extension": ".py",
   "mimetype": "text/x-python",
   "name": "python",
   "nbconvert_exporter": "python",
   "pygments_lexer": "ipython3",
   "version": "3.11.11"
  }
 },
 "nbformat": 4,
 "nbformat_minor": 5
}
