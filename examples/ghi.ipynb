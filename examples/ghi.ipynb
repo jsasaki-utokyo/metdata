{
 "cells": [
  {
   "cell_type": "markdown",
   "id": "4e49c7ce-93e9-44ae-be63-c594c69b7da1",
   "metadata": {},
   "source": [
    "# Estimate global horizontal irradiance under clear sky\n",
    "Estimation of global horizontal irradiance (ghi) under clear sky using [**pvlib**](https://pvlib-python.readthedocs.io/en/stable/index.html).<br>\n",
    "**Author: Jun Sasaki@UTokyo, coded on February 15, 2022, updated on February 15, 2022**<br>\n",
    "- Installation: `conda install -c pvlib pvlib`"
   ]
  },
  {
   "cell_type": "code",
   "execution_count": 1,
   "id": "0b9a6698-7c18-4ec7-beba-0f9609c7faf6",
   "metadata": {},
   "outputs": [],
   "source": [
    "import os\n",
    "import itertools\n",
    "import matplotlib.pyplot as plt\n",
    "import pandas as pd\n",
    "#import pvlib\n",
    "from pvlib import clearsky, atmosphere, solarposition\n",
    "from pvlib.location import Location\n",
    "#from pvlib.iotools import read_tmy3\n",
    "from metdata import gwo"
   ]
  },
  {
   "cell_type": "markdown",
   "id": "31f7b040-aa2a-4103-9d92-1db5220e202f",
   "metadata": {},
   "source": [
    "## Location\n",
    "- `location.Location(latitude, longitude, tz, altitude, name)`\n",
    "- `tz='Asia/Tokyo'`: timezone"
   ]
  },
  {
   "cell_type": "code",
   "execution_count": 2,
   "id": "a3b9e169-33cb-439d-81ed-366b80199fab",
   "metadata": {},
   "outputs": [
    {
     "data": {
      "text/plain": [
       "Text(0.5, 1.0, 'Tokyo: climatological turbidity')"
      ]
     },
     "execution_count": 2,
     "metadata": {},
     "output_type": "execute_result"
    },
    {
     "data": {
      "image/png": "[encoded data removed]",
      "text/plain": [
       "<Figure size 432x288 with 1 Axes>"
      ]
     },
     "metadata": {
      "needs_background": "light"
     },
     "output_type": "display_data"
    }
   ],
   "source": [
    "stn = gwo.Stn().values(\"東京\")\n",
    "tokyo = Location(stn['latitude'], stn['longitude'], 'Asia/Tokyo', stn['altitude']+stn['anemometer_height'], 'Tokyo')\n",
    "times = pd.date_range(start='2020-01-01 01:00:00', end='2021-01-01 00:00:00', freq='1H', tz=tokyo.tz)\n",
    "cs = tokyo.get_clearsky(times)\n",
    "cs.plot()\n",
    "plt.ylabel('ghi $W/m^2$')\n",
    "plt.title('Tokyo: climatological turbidity')"
   ]
  },
  {
   "cell_type": "code",
   "execution_count": 3,
   "id": "d8ee019f-0605-4ca4-bdae-636628e875c2",
   "metadata": {},
   "outputs": [
    {
     "data": {
      "text/html": [
       "<div>\n",
       "<style scoped>\n",
       "    .dataframe tbody tr th:only-of-type {\n",
       "        vertical-align: middle;\n",
       "    }\n",
       "\n",
       "    .dataframe tbody tr th {\n",
       "        vertical-align: top;\n",
       "    }\n",
       "\n",
       "    .dataframe thead th {\n",
       "        text-align: right;\n",
       "    }\n",
       "</style>\n",
       "<table border=\"1\" class=\"dataframe\">\n",
       "  <thead>\n",
       "    <tr style=\"text-align: right;\">\n",
       "      <th></th>\n",
       "      <th>ghi</th>\n",
       "    </tr>\n",
       "  </thead>\n",
       "  <tbody>\n",
       "    <tr>\n",
       "      <th>2020-01-01 01:00:00+09:00</th>\n",
       "      <td>0.0</td>\n",
       "    </tr>\n",
       "    <tr>\n",
       "      <th>2020-01-01 02:00:00+09:00</th>\n",
       "      <td>0.0</td>\n",
       "    </tr>\n",
       "    <tr>\n",
       "      <th>2020-01-01 03:00:00+09:00</th>\n",
       "      <td>0.0</td>\n",
       "    </tr>\n",
       "    <tr>\n",
       "      <th>2020-01-01 04:00:00+09:00</th>\n",
       "      <td>0.0</td>\n",
       "    </tr>\n",
       "    <tr>\n",
       "      <th>2020-01-01 05:00:00+09:00</th>\n",
       "      <td>0.0</td>\n",
       "    </tr>\n",
       "    <tr>\n",
       "      <th>...</th>\n",
       "      <td>...</td>\n",
       "    </tr>\n",
       "    <tr>\n",
       "      <th>2020-12-31 20:00:00+09:00</th>\n",
       "      <td>0.0</td>\n",
       "    </tr>\n",
       "    <tr>\n",
       "      <th>2020-12-31 21:00:00+09:00</th>\n",
       "      <td>0.0</td>\n",
       "    </tr>\n",
       "    <tr>\n",
       "      <th>2020-12-31 22:00:00+09:00</th>\n",
       "      <td>0.0</td>\n",
       "    </tr>\n",
       "    <tr>\n",
       "      <th>2020-12-31 23:00:00+09:00</th>\n",
       "      <td>0.0</td>\n",
       "    </tr>\n",
       "    <tr>\n",
       "      <th>2021-01-01 00:00:00+09:00</th>\n",
       "      <td>0.0</td>\n",
       "    </tr>\n",
       "  </tbody>\n",
       "</table>\n",
       "<p>8784 rows × 1 columns</p>\n",
       "</div>"
      ],
      "text/plain": [
       "                           ghi\n",
       "2020-01-01 01:00:00+09:00  0.0\n",
       "2020-01-01 02:00:00+09:00  0.0\n",
       "2020-01-01 03:00:00+09:00  0.0\n",
       "2020-01-01 04:00:00+09:00  0.0\n",
       "2020-01-01 05:00:00+09:00  0.0\n",
       "...                        ...\n",
       "2020-12-31 20:00:00+09:00  0.0\n",
       "2020-12-31 21:00:00+09:00  0.0\n",
       "2020-12-31 22:00:00+09:00  0.0\n",
       "2020-12-31 23:00:00+09:00  0.0\n",
       "2021-01-01 00:00:00+09:00  0.0\n",
       "\n",
       "[8784 rows x 1 columns]"
      ]
     },
     "execution_count": 3,
     "metadata": {},
     "output_type": "execute_result"
    }
   ],
   "source": [
    "cs[['ghi']]"
   ]
  },
  {
   "cell_type": "markdown",
   "id": "b4ada1b3-dc27-4f09-b65b-a9ab165e1116",
   "metadata": {},
   "source": [
    "## Creating a mask for nighttime\n",
    "- mask = True (nighttime) or False (daytime)"
   ]
  },
  {
   "cell_type": "code",
   "execution_count": 4,
   "id": "7c89935a-99c4-4f46-98a6-b71a26cb0bbf",
   "metadata": {},
   "outputs": [
    {
     "data": {
      "text/plain": [
       "array([ True,  True,  True, ...,  True,  True,  True])"
      ]
     },
     "execution_count": 4,
     "metadata": {},
     "output_type": "execute_result"
    }
   ],
   "source": [
    "mask = (cs['ghi']==0).values\n",
    "mask"
   ]
  },
  {
   "cell_type": "code",
   "execution_count": null,
   "id": "1b18c349-6240-4cb3-9415-773bbb496ba6",
   "metadata": {},
   "outputs": [],
   "source": []
  }
 ],
 "metadata": {
  "kernelspec": {
   "display_name": "Python 3 (ipykernel)",
   "language": "python",
   "name": "python3"
  },
  "language_info": {
   "codemirror_mode": {
    "name": "ipython",
    "version": 3
   },
   "file_extension": ".py",
   "mimetype": "text/x-python",
   "name": "python",
   "nbconvert_exporter": "python",
   "pygments_lexer": "ipython3",
   "version": "3.11.4"
  }
 },
 "nbformat": 4,
 "nbformat_minor": 5
}
