{
 "cells": [
  {
   "cell_type": "markdown",
   "id": "ee1d6a01-d52d-418b-85ce-ce4c0a068a25",
   "metadata": {},
   "source": [
    "# Adjusting [whpview](http://www.roy.hi-ho.ne.jp/ssai/mito_gis/whpview/index.html) data format to [GWO](http://www.roy.hi-ho.ne.jp/ssai/mito_gis/) data format\n",
    "**Author: Jun Sasaki  Coded on 2022-02-13  Updated on 2024-07-06**<br>\n",
    "- Note: pvlib required:\n",
    "```bash\n",
    "conda install pvlib\n",
    "```\n",
    "\n",
    "## 気象著互換形式\n",
    "- 2022年以降の地上気象観測データとアメダスデータもウェザートーイのサポートで配布されていますが，気象庁互換形式のみです．\n",
    "- 気象庁互換形式の値欄には記号が含まれている場合があります．値欄の記号の詳細は[こちら](https://www.data.jma.go.jp/obd/stats/data/mdrr/man/remark.html)です．\n",
    "\n",
    "## 課題\n",
    "雲量に`0+`があり，要対応．また，雲量は3時間データであるため，データの無いところはNaNにしておく必要がある．\n",
    "\n",
    "降水量の `--` とデータ無しは欠損値とし，欠損値はすべて0とする．Remarkが存在しないため，欠損値を0とする以外の方法はない．\n",
    "- 降雪，積雪：削除\n",
    "- 降水量： `--` => `0`\n",
    "- 日照時間： `\"\"` => `0`\n",
    "- 全天日射： `\"\"` => `0`\n",
    "- 降雪(cm)，積雪(cm)，--，視程：削除\n",
    "- `[\"現地気圧(hPa)\",\"海面気圧(hPa)\",\"降水量(mm)\",\"気温(℃)\",\"露点温度(℃)\",\"蒸気圧(hPa)\",\"風速(m/s)\",\"日照時間(h)\",\"全天日射量(MJ/㎡)\"]`"
   ]
  },
  {
   "cell_type": "code",
   "execution_count": null,
   "id": "7f92e70a-643e-4555-93b6-a6888750c4bb",
   "metadata": {},
   "outputs": [],
   "source": [
    "from metdata.whp import Whp, StationDict\n",
    "#import sys\n",
    "#import os\n",
    "#import glob\n",
    "#import numpy as np\n",
    "#import math\n",
    "#import pandas as pd\n",
    "#import datetime\n",
    "#import subprocess\n",
    "#from pandas.tseries.offsets import Hour\n",
    "#from dateutil.parser import parse"
   ]
  },
  {
   "cell_type": "markdown",
   "id": "6e7b6b99-dea9-4edc-8f90-2e04d42dd60c",
   "metadata": {},
   "source": [
    "降水量の `--` とデータ無しは欠損値とし，欠損値はすべて0とする．Remarkが存在しないため，欠損値を0とする以外の方法はない．\n",
    "- 降雪，積雪：削除\n",
    "- 降水量： `--` => `0`\n",
    "- 日照時間： `\"\"` => `0`\n",
    "- 全天日射： `\"\"` => `0`\n",
    "- 降雪(cm)，積雪(cm)，--，視程：削除\n",
    "- `[\"現地気圧(hPa)\",\"海面気圧(hPa)\",\"降水量(mm)\",\"気温(℃)\",\"露点温度(℃)\",\"蒸気圧(hPa)\",\"風速(m/s)\",\"日照時間(h)\",\"全天日射量(MJ/㎡)\"]`"
   ]
  },
  {
   "cell_type": "code",
   "execution_count": null,
   "id": "01841bf6-c732-441b-8d2b-e3f73182f71e",
   "metadata": {},
   "outputs": [],
   "source": [
    "dir_path = '/mnt/d/dat/met/JMA_DataBase/whpView/wwwRoot/data/'\n",
    "stn = 'Yokohama'\n",
    "years = [2022]\n",
    "whp_data = StationDict()\n",
    "for year in years:\n",
    "    whp_data[(stn,year)]=Whp(year=year, stn=stn, dir_path=dir_path)"
   ]
  },
  {
   "cell_type": "code",
   "execution_count": null,
   "id": "38d39676-0c67-4af9-9b2b-48c60eaea48e",
   "metadata": {},
   "outputs": [],
   "source": [
    "#whp_data['Yokohama', 2022].df.iloc[3901,:]\n",
    "whp_data['Yokohama', 2022].df"
   ]
  },
  {
   "cell_type": "code",
   "execution_count": null,
   "id": "4e96b10a-5774-455b-a0a4-9940691ed587",
   "metadata": {},
   "outputs": [],
   "source": [
    "#tokyo_2021.to_csv()\n"
   ]
  },
  {
   "cell_type": "code",
   "execution_count": null,
   "id": "c022d953-8be4-4742-88b9-29ce82ffcb9f",
   "metadata": {},
   "outputs": [],
   "source": [
    "#tokyo_2021.df_org"
   ]
  },
  {
   "cell_type": "code",
   "execution_count": null,
   "id": "d55ee1d0-5acd-4f7e-9b8b-2d63567207ed",
   "metadata": {},
   "outputs": [],
   "source": []
  }
 ],
 "metadata": {
  "kernelspec": {
   "display_name": "Python 3 (ipykernel)",
   "language": "python",
   "name": "python3"
  },
  "language_info": {
   "codemirror_mode": {
    "name": "ipython",
    "version": 3
   },
   "file_extension": ".py",
   "mimetype": "text/x-python",
   "name": "python",
   "nbconvert_exporter": "python",
   "pygments_lexer": "ipython3",
   "version": "3.11.9"
  }
 },
 "nbformat": 4,
 "nbformat_minor": 5
}
