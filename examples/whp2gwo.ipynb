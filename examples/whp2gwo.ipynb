{
 "cells": [
  {
   "cell_type": "markdown",
   "id": "ee1d6a01-d52d-418b-85ce-ce4c0a068a25",
   "metadata": {},
   "source": [
    "# Converting [Whp](http://www.roy.hi-ho.ne.jp/ssai/mito_gis/whpview/index.html) (JMA compatible) format to [GWO](http://www.roy.hi-ho.ne.jp/ssai/mito_gis/) format\n",
    "**Author: Jun Sasaki  Coded on 2022-02-13  Updated on 2024-07-07**<br>\n",
    "気象庁互換形式でウェザートーイのサポートから配布されているCSVデータを気象庁地上観測データGWO形式のCSVデータに変換する．両者で単位や表記が異なるため，GWO形式に合わせる．時別値に対応済みである．日別値とAMEDASにも対応したい．\n",
    "\n",
    "- Note: pvlib required:\n",
    "```bash\n",
    "conda install pvlib\n",
    "```\n",
    "\n",
    "## 気象庁互換形式\n",
    "- 2022年以降の地上気象観測データとアメダスデータは[ウェザートーイ](http://www.roy.hi-ho.ne.jp/ssai/mito_gis/)のサポートにおいて，気象庁互換形式で配布されている．気象庁互換形式をGWO形式に変換する．\n",
    "- 気象庁互換形式の値欄には記号が含まれている場合がある．値欄の記号の詳細は[こちら](https://www.data.jma.go.jp/obd/stats/data/mdrr/man/remark.html)．\n",
    "\n",
    "### 値欄の処理\n",
    "- 雲量に`0+`がある．また，雲量は3時間データであるため，データの無いところはNaNにしておく必要がある．\n",
    "- 降水量の `--` とデータ無しは欠損値とし，欠損値はすべて0とする．Remarkが存在しないため，欠損値を0とする以外の方法はない．\n",
    "\n",
    "```\n",
    "降雪，積雪：削除\n",
    "雲量： '0+' => 0\n",
    "降水量： '--' => 0\n",
    "日照時間： '' => 0\n",
    "全天日射： '' => 0 （全天日射量が観測されていない測点では0ではなくNaNにする）\n",
    "降雪(cm)，積雪(cm)，--，視程：削除\n",
    "[\"現地気圧(hPa)\",\"海面気圧(hPa)\",\"降水量(mm)\",\"気温(℃)\",\"露点温度(℃)\",\"蒸気圧(hPa)\",\"風速(m/s)\",\"日照時間(h)\",\"全天日射量(MJ/㎡)\"]\n",
    "```"
   ]
  },
  {
   "cell_type": "code",
   "execution_count": null,
   "id": "7f92e70a-643e-4555-93b6-a6888750c4bb",
   "metadata": {},
   "outputs": [],
   "source": [
    "from metdata.whp import Whp, StationDict"
   ]
  },
  {
   "cell_type": "markdown",
   "id": "476464d8-390b-4653-b5e3-3e8aac840cce",
   "metadata": {},
   "source": [
    "## Create Whp instance for whp CSV (JMA compatible) in GWO compatible CSV\n",
    "- The created instance is a dictionary of `whp[stn, year]`\n",
    "- pandas.DataFrame is obtained by `whp[stn, year].df` \n",
    "- Specify `data_dir_base` where CSV_file path is `data_dir_base/stn/year/CSV_file`. \n",
    "- Specify stations list `stns` and years list `years`.\n",
    "### Specify input and output directory bases, stations `stns`, and years `years`"
   ]
  },
  {
   "cell_type": "code",
   "execution_count": null,
   "id": "baa4e433-0946-4f4e-a035-eb9779670d75",
   "metadata": {},
   "outputs": [],
   "source": [
    "whp_dir_base = '/mnt/d/dat/met/JMA_DataBase/whpView/wwwRoot/data/'\n",
    "gwo_dir_base = \"/mnt/d/dat/met/JMA_DataBase/GWO/Hourly/\"\n",
    "stns = ['Tokyo','Yokohama', 'Chiba']\n",
    "years = [2022]\n",
    "whp_data = StationDict()"
   ]
  },
  {
   "cell_type": "markdown",
   "id": "28f40e13-142d-4359-b4b0-b7830d6b9601",
   "metadata": {},
   "source": [
    "### Create Whp instances"
   ]
  },
  {
   "cell_type": "code",
   "execution_count": null,
   "id": "01841bf6-c732-441b-8d2b-e3f73182f71e",
   "metadata": {},
   "outputs": [],
   "source": [
    "for stn in stns: \n",
    "    for year in years:\n",
    "        whp_data[(stn, year)]=Whp(year=year, stn=stn, data_dir_base=whp_dir_base)"
   ]
  },
  {
   "cell_type": "code",
   "execution_count": null,
   "id": "38d39676-0c67-4af9-9b2b-48c60eaea48e",
   "metadata": {},
   "outputs": [],
   "source": [
    "'''\n",
    "#whp_data['Yokohama', 2022].df.iloc[3901,:]\n",
    "whp_data['Yokohama', 2022].df.head()\n",
    "'''"
   ]
  },
  {
   "cell_type": "markdown",
   "id": "bfe590ff-9c61-4e92-9d5c-db82f384942a",
   "metadata": {},
   "source": [
    "### Export Whp CSV files in GWO format"
   ]
  },
  {
   "cell_type": "code",
   "execution_count": null,
   "id": "4e96b10a-5774-455b-a0a4-9940691ed587",
   "metadata": {},
   "outputs": [],
   "source": [
    "for stn in stns:\n",
    "    for year in years:\n",
    "        whp_data[stn, year].to_csv(data_dir_base=gwo_dir_base, isfpath=False)\n"
   ]
  },
  {
   "cell_type": "code",
   "execution_count": null,
   "id": "d55ee1d0-5acd-4f7e-9b8b-2d63567207ed",
   "metadata": {},
   "outputs": [],
   "source": []
  }
 ],
 "metadata": {
  "kernelspec": {
   "display_name": "Python 3 (ipykernel)",
   "language": "python",
   "name": "python3"
  },
  "language_info": {
   "codemirror_mode": {
    "name": "ipython",
    "version": 3
   },
   "file_extension": ".py",
   "mimetype": "text/x-python",
   "name": "python",
   "nbconvert_exporter": "python",
   "pygments_lexer": "ipython3",
   "version": "3.11.9"
  }
 },
 "nbformat": 4,
 "nbformat_minor": 5
}
